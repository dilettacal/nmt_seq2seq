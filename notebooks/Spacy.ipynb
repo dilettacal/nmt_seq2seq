{
 "cells": [
  {
   "cell_type": "code",
   "execution_count": 2,
   "metadata": {},
   "outputs": [],
   "source": [
    "import spacy\n",
    "import pandas as pd"
   ]
  },
  {
   "cell_type": "code",
   "execution_count": 3,
   "metadata": {},
   "outputs": [],
   "source": [
    "en_nlp = spacy.load(\"en\")"
   ]
  },
  {
   "cell_type": "code",
   "execution_count": 4,
   "metadata": {},
   "outputs": [],
   "source": [
    "de_nlp = spacy.load(\"de\")"
   ]
  },
  {
   "cell_type": "code",
   "execution_count": 5,
   "metadata": {},
   "outputs": [],
   "source": [
    "it_nlp = spacy.load(\"it\")"
   ]
  },
  {
   "cell_type": "code",
   "execution_count": 6,
   "metadata": {},
   "outputs": [],
   "source": [
    "fr_nlp = spacy.load(\"fr\")"
   ]
  },
  {
   "cell_type": "markdown",
   "metadata": {},
   "source": [
    "## Testing NER"
   ]
  },
  {
   "cell_type": "code",
   "execution_count": 7,
   "metadata": {},
   "outputs": [],
   "source": [
    "de_lines = [line.strip(\"\\n\") for line in open(\"spacy.de\", mode=\"r\", encoding=\"utf-8\").readlines()]"
   ]
  },
  {
   "cell_type": "code",
   "execution_count": 8,
   "metadata": {},
   "outputs": [],
   "source": [
    "en_lines = [line.strip(\"\\n\") for line in open(\"spacy.en\", mode=\"r\", encoding=\"utf-8\").readlines()]"
   ]
  },
  {
   "cell_type": "code",
   "execution_count": 9,
   "metadata": {},
   "outputs": [
    {
     "data": {
      "text/plain": [
       "[('Ja, Herr Evans, ich denke, daß eine derartige Initiative durchaus angebracht ist.',\n",
       "  'Yes, Mr Evans, I feel an initiative of the type you have just suggested would be entirely appropriate.'),\n",
       " ('Frau Schroedter, ich bin gerne bereit, die damit zusammenhängenden Fakten zu prüfen, wenn mir Ihr Brief vorliegt.',\n",
       "  'Yes, Mrs Schroedter, I shall be pleased to look into the facts of this case when I have received your letter.'),\n",
       " ('Diese Abstimmung ist meiner Erinnerung nach so ausgegangen: 422 gegen 180 Stimmen bei einigen wenigen Enthaltungen.',\n",
       "  'As I recall, the outcome of this vote was 422 votes to 180 with a few abstentions.'),\n",
       " ('(Das Parlament lehnt den Antrag mit 164 Ja-Stimmen, 166 Nein-Stimmen und 7 Enthaltungen ab.)',\n",
       "  '(Parliament rejected the request, with 164 votes for, 166 votes against and 7 abstentions)'),\n",
       " ('Wir stimmen jetzt über den Antrag der PPE/DE-Fraktion ab, die mündliche Anfrage über die Kapitalsteuer von der Tagesordnung abzusetzen',\n",
       "  \"We shall proceed to vote on the PPE-DE Group' s request that the oral question regarding the capital tax be withdrawn from the agenda.\"),\n",
       " ('Frau Präsidentin! Die Präsidentschaft hat das Ergebnis der Abstimmung verkündet.',\n",
       "  'Madam President, the Presidency has already declared the result of the vote.'),\n",
       " ('Im Falle Frankreichs beschloss die Kommission am 18. Juli 2001, den Gerichtshof wegen unvollständiger Umsetzung anzurufen.',\n",
       "  'The last updates were made in 2000 and 2001.'),\n",
       " ('Erklärung zur Abstimmung - Berichte Turchi (A5-0303/2001) und Linkohr (A5-0297/2001):',\n",
       "  'Explanation of vote - Turchi Report (A5-0303/2001) and Linkohr Report (A5-0297/2001):'),\n",
       " ('Anfrage Nr. 27 von (H-0700/01):', 'Question No 27 by (H-0700/01):'),\n",
       " ('Der Rat wird von Frau Neyts-Uyttebroeck, amtierende Ratspräsidentin, vertreten.',\n",
       "  'The Council will be represented by Mrs Neyts-Uyttebroeck, President-in-Office of the Council.')]"
      ]
     },
     "execution_count": 9,
     "metadata": {},
     "output_type": "execute_result"
    }
   ],
   "source": [
    "list(zip(de_lines, en_lines))"
   ]
  },
  {
   "cell_type": "code",
   "execution_count": 10,
   "metadata": {},
   "outputs": [],
   "source": [
    "en_docs = list(en_nlp.pipe(en_lines))\n",
    "de_docs =list(de_nlp.pipe(de_lines))"
   ]
  },
  {
   "cell_type": "code",
   "execution_count": 11,
   "metadata": {},
   "outputs": [
    {
     "name": "stdout",
     "output_type": "stream",
     "text": [
      "NER for English:\n",
      "[[('Mr Evans', 'PERSON')], [('Mrs Schroedter', 'PERSON')], [], [('Parliament', 'ORG')], [(\"the PPE-DE Group'\", 'ORG')], [('Presidency', 'ORG')], [], [('Linkohr Report', 'ORG')], [], [('Council', 'ORG'), ('Mrs Neyts-Uyttebroeck', 'PERSON'), ('-Office of the Council', 'ORG')]]\n"
     ]
    }
   ],
   "source": [
    "print(\"NER for English:\")\n",
    "en_ents = []\n",
    "en_toks = []\n",
    "for doc in en_docs:\n",
    "    en_ents.append(doc.ents)\n",
    "    en_toks.append(doc)\n",
    "en_ents = [[(ent.text, ent.label_) for ent in entities if ent.label_ in [\"ORG\", \"PERSON\"]] for entities in en_ents]\n",
    "print(en_ents)\n",
    "#print(en_toks)"
   ]
  },
  {
   "cell_type": "code",
   "execution_count": 12,
   "metadata": {},
   "outputs": [
    {
     "name": "stdout",
     "output_type": "stream",
     "text": [
      "NER for German:\n",
      "[[('Evans', 'PER')], [], [], [('Das Parlament', 'ORG')], [], [], [('Kommission', 'ORG'), ('Gerichtshof', 'ORG')], [], [], [('Neyts-Uyttebroeck', 'PER')]]\n"
     ]
    }
   ],
   "source": [
    "print(\"NER for German:\")\n",
    "de_ents = []\n",
    "de_toks = []\n",
    "for doc in de_docs:\n",
    "    de_ents.append(doc.ents)\n",
    "    de_toks.append(doc)\n",
    "de_ents = [[(ent.text, ent.label_) for ent in entities if ent.label_ in [\"ORG\", \"PER\"]] for entities in de_ents]\n",
    "print(de_ents)"
   ]
  },
  {
   "cell_type": "code",
   "execution_count": 13,
   "metadata": {},
   "outputs": [
    {
     "name": "stdout",
     "output_type": "stream",
     "text": [
      "POS for English/German:\n"
     ]
    },
    {
     "data": {
      "text/html": [
       "<div>\n",
       "<style scoped>\n",
       "    .dataframe tbody tr th:only-of-type {\n",
       "        vertical-align: middle;\n",
       "    }\n",
       "\n",
       "    .dataframe tbody tr th {\n",
       "        vertical-align: top;\n",
       "    }\n",
       "\n",
       "    .dataframe thead th {\n",
       "        text-align: right;\n",
       "    }\n",
       "</style>\n",
       "<table border=\"1\" class=\"dataframe\">\n",
       "  <thead>\n",
       "    <tr style=\"text-align: right;\">\n",
       "      <th></th>\n",
       "      <th>en_pos</th>\n",
       "      <th>de_pos</th>\n",
       "    </tr>\n",
       "  </thead>\n",
       "  <tbody>\n",
       "    <tr>\n",
       "      <th>0</th>\n",
       "      <td>[(Yes, INTJ, yes), (Mr, PROPN, Mr), (Evans, PR...</td>\n",
       "      <td>[(Ja, PART, ja), (Herr, NOUN, Herr), (Evans, P...</td>\n",
       "    </tr>\n",
       "    <tr>\n",
       "      <th>1</th>\n",
       "      <td>[(Yes, INTJ, yes), (Mrs, PROPN, Mrs), (Schroed...</td>\n",
       "      <td>[(Frau, NOUN, Frau), (Schroedter, PROPN, Schro...</td>\n",
       "    </tr>\n",
       "    <tr>\n",
       "      <th>2</th>\n",
       "      <td>[(As, ADP, as), (I, PRON, -PRON-), (recall, VE...</td>\n",
       "      <td>[(Diese, DET, Diese), (Abstimmung, NOUN, Absti...</td>\n",
       "    </tr>\n",
       "    <tr>\n",
       "      <th>3</th>\n",
       "      <td>[(Parliament, PROPN, Parliament), (rejected, V...</td>\n",
       "      <td>[(Das, DET, der), (Parlament, NOUN, Parlament)...</td>\n",
       "    </tr>\n",
       "    <tr>\n",
       "      <th>4</th>\n",
       "      <td>[(We, PRON, -PRON-), (shall, VERB, shall), (pr...</td>\n",
       "      <td>[(Wir, PRON, ich), (stimmen, VERB, stimmen), (...</td>\n",
       "    </tr>\n",
       "  </tbody>\n",
       "</table>\n",
       "</div>"
      ],
      "text/plain": [
       "                                              en_pos  \\\n",
       "0  [(Yes, INTJ, yes), (Mr, PROPN, Mr), (Evans, PR...   \n",
       "1  [(Yes, INTJ, yes), (Mrs, PROPN, Mrs), (Schroed...   \n",
       "2  [(As, ADP, as), (I, PRON, -PRON-), (recall, VE...   \n",
       "3  [(Parliament, PROPN, Parliament), (rejected, V...   \n",
       "4  [(We, PRON, -PRON-), (shall, VERB, shall), (pr...   \n",
       "\n",
       "                                              de_pos  \n",
       "0  [(Ja, PART, ja), (Herr, NOUN, Herr), (Evans, P...  \n",
       "1  [(Frau, NOUN, Frau), (Schroedter, PROPN, Schro...  \n",
       "2  [(Diese, DET, Diese), (Abstimmung, NOUN, Absti...  \n",
       "3  [(Das, DET, der), (Parlament, NOUN, Parlament)...  \n",
       "4  [(Wir, PRON, ich), (stimmen, VERB, stimmen), (...  "
      ]
     },
     "execution_count": 13,
     "metadata": {},
     "output_type": "execute_result"
    }
   ],
   "source": [
    "print(\"POS for English/German:\")\n",
    "en_pos = [[(tok.text, tok.pos_, tok.lemma_) for tok in tokens if not tok.is_punct] for tokens in en_toks]\n",
    "de_pos = [[(tok.text, tok.pos_, tok.lemma_) for tok in tokens if not tok.is_punct] for tokens in de_toks]\n",
    "ps_df = pd.DataFrame(dict({\"en_pos\": en_pos, \"de_pos\": de_pos}))\n",
    "ps_df.head()"
   ]
  },
  {
   "cell_type": "code",
   "execution_count": 14,
   "metadata": {},
   "outputs": [
    {
     "data": {
      "text/plain": [
       "['NUM', 'NUM', 'Euro', 'verschwendet']"
      ]
     },
     "execution_count": 14,
     "metadata": {},
     "output_type": "execute_result"
    }
   ],
   "source": [
    "test_str = \"12 999 Euro verschwendet\"\n",
    "toks = [tok.text if not tok.is_digit else \"NUM\" for tok in de_nlp(test_str)]\n",
    "toks"
   ]
  },
  {
   "cell_type": "code",
   "execution_count": 15,
   "metadata": {},
   "outputs": [],
   "source": [
    "toks = [toks[i] for i in range(len(toks)) if (i==0) or toks[i] != toks[i-1]]"
   ]
  },
  {
   "cell_type": "code",
   "execution_count": 16,
   "metadata": {},
   "outputs": [
    {
     "data": {
      "text/plain": [
       "['NUM', 'Euro', 'verschwendet']"
      ]
     },
     "execution_count": 16,
     "metadata": {},
     "output_type": "execute_result"
    }
   ],
   "source": [
    "toks"
   ]
  },
  {
   "cell_type": "code",
   "execution_count": 17,
   "metadata": {},
   "outputs": [
    {
     "name": "stdout",
     "output_type": "stream",
     "text": [
      "['12', '999']\n",
      "['12', '999']\n"
     ]
    }
   ],
   "source": [
    "import re\n",
    "print(re.findall(r'[-+]?\\d*,\\d+|\\d+', test_str))\n",
    "print(re.findall(r'\\d+(?:,\\d+)?', test_str))"
   ]
  },
  {
   "cell_type": "code",
   "execution_count": 18,
   "metadata": {},
   "outputs": [],
   "source": [
    "num_re = r'\\d+(?:,\\d+)?'\n",
    "s = re.sub(num_re, \"NUM\", test_str).split(\" \")"
   ]
  },
  {
   "cell_type": "code",
   "execution_count": 19,
   "metadata": {},
   "outputs": [],
   "source": [
    "toks = [s[i] for i in range(len(s)) if (i==0) or s[i] != s[i-1]]"
   ]
  },
  {
   "cell_type": "code",
   "execution_count": 20,
   "metadata": {},
   "outputs": [
    {
     "data": {
      "text/plain": [
       "[NUM, Euro, verschwendet]"
      ]
     },
     "execution_count": 20,
     "metadata": {},
     "output_type": "execute_result"
    }
   ],
   "source": [
    "list(de_nlp(' '.join(toks)))"
   ]
  },
  {
   "cell_type": "code",
   "execution_count": 78,
   "metadata": {},
   "outputs": [],
   "source": [
    "my_str = \"\"\"\n",
    "Dividendengutschrift für inländische Wertpapiere\n",
    "\n",
    "Depotinhaber    : ME\n",
    "\n",
    "Extag           :  18.04.2013          Bruttodividende\n",
    "Zahlungstag     :  18.04.2013          pro Stück       :       0,9800 EUR\n",
    "Valuta          :  18.04.2013\n",
    "\n",
    "                                       Bruttodividende :        78,40 EUR\n",
    "                                      *Einbeh. Steuer  :        20,67 EUR\n",
    "                                       Nettodividende  :        78,40 EUR\n",
    "\n",
    "                                       Endbetrag       :        57,73 EUR\n",
    "\"\"\""
   ]
  },
  {
   "cell_type": "code",
   "execution_count": 79,
   "metadata": {},
   "outputs": [],
   "source": [
    "date_re = r\"^([1-9] |1[0-9]| 2[0-9]|3[0-1])(.|-)([1-9] |1[0-2])(.|-|)20[0-9][0-9]$\""
   ]
  },
  {
   "cell_type": "code",
   "execution_count": 80,
   "metadata": {},
   "outputs": [],
   "source": [
    "date = r'\\d+[ -/.]\\d+[ -/.]\\d+'"
   ]
  },
  {
   "cell_type": "code",
   "execution_count": 81,
   "metadata": {},
   "outputs": [],
   "source": [
    "match = re.findall(date, my_str)"
   ]
  },
  {
   "cell_type": "code",
   "execution_count": 82,
   "metadata": {},
   "outputs": [
    {
     "data": {
      "text/plain": [
       "['18.04.2013', '18.04.2013', '18.04.2013']"
      ]
     },
     "execution_count": 82,
     "metadata": {},
     "output_type": "execute_result"
    }
   ],
   "source": [
    "match"
   ]
  },
  {
   "cell_type": "code",
   "execution_count": null,
   "metadata": {},
   "outputs": [],
   "source": []
  },
  {
   "cell_type": "code",
   "execution_count": 83,
   "metadata": {},
   "outputs": [
    {
     "data": {
      "text/plain": [
       "'\\nDividendengutschrift für inländische Wertpapiere\\n\\nDepotinhaber    : ME\\n\\nExtag           :  18.04.2013          Bruttodividende\\nZahlungstag     :  18.04.2013          pro Stück       :       0,9800 EUR\\nValuta          :  18.04.2013\\n\\n                                       Bruttodividende :        78,40 EUR\\n                                      *Einbeh. Steuer  :        20,67 EUR\\n                                       Nettodividende  :        78,40 EUR\\n\\n                                       Endbetrag       :        57,73 EUR\\n'"
      ]
     },
     "execution_count": 83,
     "metadata": {},
     "output_type": "execute_result"
    }
   ],
   "source": [
    "my_str = re.sub(date_re, \"DATE\", my_str)\n",
    "my_str"
   ]
  },
  {
   "cell_type": "code",
   "execution_count": 85,
   "metadata": {},
   "outputs": [
    {
     "data": {
      "text/plain": [
       "[('me', datetime.datetime(2019, 6, 19, 0, 0)),\n",
       " ('2013', datetime.datetime(2013, 6, 19, 0, 0)),\n",
       " ('2013', datetime.datetime(2013, 6, 19, 0, 0)),\n",
       " ('9800', datetime.datetime(9800, 6, 19, 0, 0)),\n",
       " ('2013', datetime.datetime(2013, 6, 19, 0, 0)),\n",
       " ('20,67', datetime.datetime(2067, 6, 20, 0, 0))]"
      ]
     },
     "execution_count": 85,
     "metadata": {},
     "output_type": "execute_result"
    }
   ],
   "source": [
    "search_dates(my_str.lower())"
   ]
  },
  {
   "cell_type": "code",
   "execution_count": 27,
   "metadata": {},
   "outputs": [
    {
     "data": {
      "text/plain": [
       "['',\n",
       " 'Dividendengutschrift für inländische Wertpapiere',\n",
       " '',\n",
       " 'Depotinhaber    : ME',\n",
       " '',\n",
       " 'Extag           :  DATE          Bruttodividende',\n",
       " 'Zahlungstag     :  DATE          pro Stück       :       NUM EUR',\n",
       " 'Valuta          :  DATE',\n",
       " '',\n",
       " '                                       Bruttodividende :        NUM EUR',\n",
       " '                                      *Einbeh. Steuer  :        NUM EUR',\n",
       " '                                       Nettodividende  :        NUM EUR',\n",
       " '',\n",
       " '                                       Endbetrag       :        NUM EUR',\n",
       " '']"
      ]
     },
     "execution_count": 27,
     "metadata": {},
     "output_type": "execute_result"
    }
   ],
   "source": [
    "my_str = re.sub(num_re, \"NUM\", my_str).split(\"\\n\")\n",
    "my_str"
   ]
  },
  {
   "cell_type": "code",
   "execution_count": 28,
   "metadata": {},
   "outputs": [],
   "source": [
    "lines = list(zip(en_lines, de_lines))"
   ]
  },
  {
   "cell_type": "code",
   "execution_count": 29,
   "metadata": {},
   "outputs": [],
   "source": [
    "def replace_date(line):\n",
    "    return re.sub(date, \"DATE\", line)\n",
    "\n",
    "def replace_numbers(line):\n",
    "    return re.sub(num_re, \"NUM\", line)"
   ]
  },
  {
   "cell_type": "code",
   "execution_count": 30,
   "metadata": {},
   "outputs": [],
   "source": [
    "lines = [(replace_numbers(replace_date(en_line)), replace_numbers(replace_date(de_line))) for en_line, de_line in lines]"
   ]
  },
  {
   "cell_type": "code",
   "execution_count": 31,
   "metadata": {},
   "outputs": [
    {
     "data": {
      "text/plain": [
       "[('Yes, Mr Evans, I feel an initiative of the type you have just suggested would be entirely appropriate.',\n",
       "  'Ja, Herr Evans, ich denke, daß eine derartige Initiative durchaus angebracht ist.'),\n",
       " ('Yes, Mrs Schroedter, I shall be pleased to look into the facts of this case when I have received your letter.',\n",
       "  'Frau Schroedter, ich bin gerne bereit, die damit zusammenhängenden Fakten zu prüfen, wenn mir Ihr Brief vorliegt.'),\n",
       " ('As I recall, the outcome of this vote was NUM votes to NUM with a few abstentions.',\n",
       "  'Diese Abstimmung ist meiner Erinnerung nach so ausgegangen: NUM gegen NUM Stimmen bei einigen wenigen Enthaltungen.'),\n",
       " ('(Parliament rejected the request, with NUM votes for, NUM votes against and NUM abstentions)',\n",
       "  '(Das Parlament lehnt den Antrag mit NUM Ja-Stimmen, NUM Nein-Stimmen und NUM Enthaltungen ab.)'),\n",
       " (\"We shall proceed to vote on the PPE-DE Group' s request that the oral question regarding the capital tax be withdrawn from the agenda.\",\n",
       "  'Wir stimmen jetzt über den Antrag der PPE/DE-Fraktion ab, die mündliche Anfrage über die Kapitalsteuer von der Tagesordnung abzusetzen'),\n",
       " ('Madam President, the Presidency has already declared the result of the vote.',\n",
       "  'Frau Präsidentin! Die Präsidentschaft hat das Ergebnis der Abstimmung verkündet.'),\n",
       " ('The last updates were made in NUM and NUM.',\n",
       "  'Im Falle Frankreichs beschloss die Kommission am NUM. Juli NUM, den Gerichtshof wegen unvollständiger Umsetzung anzurufen.'),\n",
       " ('Explanation of vote - Turchi Report (ADATE) and Linkohr Report (ADATE):',\n",
       "  'Erklärung zur Abstimmung - Berichte Turchi (ADATE) und Linkohr (ADATE):'),\n",
       " ('Question No NUM by (H-NUM/NUM):', 'Anfrage Nr. NUM von (H-NUM/NUM):'),\n",
       " ('The Council will be represented by Mrs Neyts-Uyttebroeck, President-in-Office of the Council.',\n",
       "  'Der Rat wird von Frau Neyts-Uyttebroeck, amtierende Ratspräsidentin, vertreten.')]"
      ]
     },
     "execution_count": 31,
     "metadata": {},
     "output_type": "execute_result"
    }
   ],
   "source": [
    "lines"
   ]
  },
  {
   "cell_type": "markdown",
   "metadata": {},
   "source": [
    "### Use on corpus (EN)"
   ]
  },
  {
   "cell_type": "code",
   "execution_count": 32,
   "metadata": {},
   "outputs": [],
   "source": [
    "EN_LINES = [line.strip(\"\\n\") for line in open(\"bitext.en\", mode=\"r\", encoding=\"utf-8\").readlines()]\n",
    "DE_LINES = [line.strip(\"\\n\") for line in open(\"bitext.de\", mode=\"r\", encoding=\"utf-8\").readlines()]"
   ]
  },
  {
   "cell_type": "code",
   "execution_count": 33,
   "metadata": {},
   "outputs": [
    {
     "data": {
      "text/plain": [
       "(['You have requested a debate on this subject in the course of the next few days, during this part-session.',\n",
       "  \"Please rise, then, for this minute' s silence.\",\n",
       "  'You will be aware from the press and television that there have been a number of bomb explosions and killings in Sri Lanka.',\n",
       "  'Yes, Mr Evans, I feel an initiative of the type you have just suggested would be entirely appropriate.',\n",
       "  'If the House agrees, I shall do as Mr Evans has suggested.',\n",
       "  'I would like your advice about Rule 143 concerning inadmissibility.',\n",
       "  'My question relates to something that will come up on Thursday and which I will then raise again.',\n",
       "  'It says that this should be done despite the principle of relative stability.',\n",
       "  'I believe that the principle of relative stability is a fundamental legal principle of the common fisheries policy and a proposal to subvert it would be legally inadmissible.',\n",
       "  'That is precisely the time when you may, if you wish, raise this question, i.e. on Thursday prior to the start of the presentation of the report.'],\n",
       " ['Im Parlament besteht der Wunsch nach einer Aussprache im Verlauf dieser Sitzungsperiode in den nächsten Tagen.',\n",
       "  'Ich bitte Sie, sich zu einer Schweigeminute zu erheben.',\n",
       "  'Wie Sie sicher aus der Presse und dem Fernsehen wissen, gab es in Sri Lanka mehrere Bombenexplosionen mit zahlreichen Toten.',\n",
       "  'Ja, Herr Evans, ich denke, daß eine derartige Initiative durchaus angebracht ist.',\n",
       "  'Wenn das Haus damit einverstanden ist, werde ich dem Vorschlag von Herrn Evans folgen.',\n",
       "  'Könnten Sie mir eine Auskunft zu Artikel 143 im Zusammenhang mit der Unzulässigkeit geben?',\n",
       "  'Meine Frage betrifft eine Angelegenheit, die am Donnerstag zur Sprache kommen wird und auf die ich dann erneut verweisen werde.',\n",
       "  'Und zwar sollen derartige Strafen trotz des Grundsatzes der relativen Stabilität verhängt werden.',\n",
       "  'Ich meine, daß der Grundsatz der relativen Stabilität einen elementaren Rechtsgrundsatz der gemeinsamen Fischereipolitik darstellt und ein Vorschlag, diesen zu unterlaufen, rechtlich unzulässig wäre.',\n",
       "  'Genau dann können Sie, wenn Sie wollen, diese Frage ansprechen, d. h. am Donnerstag zu Beginn der Aussprache über den Bericht.'])"
      ]
     },
     "execution_count": 33,
     "metadata": {},
     "output_type": "execute_result"
    }
   ],
   "source": [
    "EN_LINES[:10], DE_LINES[:10]"
   ]
  },
  {
   "cell_type": "code",
   "execution_count": 34,
   "metadata": {},
   "outputs": [
    {
     "data": {
      "text/plain": [
       "(622376, 622376)"
      ]
     },
     "execution_count": 34,
     "metadata": {},
     "output_type": "execute_result"
    }
   ],
   "source": [
    "len(EN_LINES), len(DE_LINES)"
   ]
  },
  {
   "cell_type": "code",
   "execution_count": 35,
   "metadata": {},
   "outputs": [],
   "source": [
    "all_lines = list(zip(EN_LINES, DE_LINES))"
   ]
  },
  {
   "cell_type": "code",
   "execution_count": 36,
   "metadata": {},
   "outputs": [],
   "source": [
    "def find_seq_num(lines):\n",
    "    for src, trg in lines:\n",
    "        if re.findall(num_re, src):\n",
    "            yield src, trg"
   ]
  },
  {
   "cell_type": "code",
   "execution_count": 37,
   "metadata": {},
   "outputs": [],
   "source": [
    "all_lines = list(find_seq_num(all_lines))"
   ]
  },
  {
   "cell_type": "code",
   "execution_count": 38,
   "metadata": {},
   "outputs": [],
   "source": [
    "all_lines = all_lines[:100]"
   ]
  },
  {
   "cell_type": "code",
   "execution_count": 39,
   "metadata": {},
   "outputs": [
    {
     "data": {
      "text/plain": [
       "[('I would like your advice about Rule 143 concerning inadmissibility.',\n",
       "  'Könnten Sie mir eine Auskunft zu Artikel 143 im Zusammenhang mit der Unzulässigkeit geben?'),\n",
       " ('Why has there been no Health and Safety Committee meeting since 1998?',\n",
       "  'Weshalb ist der Arbeitsschutzausschuß seit 1998 nicht ein einziges Mal zusammengetreten?'),\n",
       " ('To this end, I would like to remind you of the resolution of 15 September, which recommended that the proposal be presented as soon as possible.',\n",
       "  'In diesem Sinne erinnere ich an die Entschließung vom 15. September, in der empfohlen wurde, den Vorschlag in der kürzestmöglichen Frist vorzulegen.'),\n",
       " ('As I recall, the outcome of this vote was 422 votes to 180 with a few abstentions.',\n",
       "  'Diese Abstimmung ist meiner Erinnerung nach so ausgegangen: 422 gegen 180 Stimmen bei einigen wenigen Enthaltungen.'),\n",
       " ('The Commission will present its programme for the year 2000 in February.',\n",
       "  'Die Kommission wird das Programm für das Jahr 2000 im Februar vorlegen.'),\n",
       " ('We have said, very well, if the Commission does not wish to introduce the 2000 programme as early as January then we will do it in February.',\n",
       "  'Wir haben gesagt, o. k, wenn die Kommission das Programm 2000 noch nicht im Januar machen will, dann machen wir das im Februar.'),\n",
       " ('(Parliament rejected the request, with 164 votes for, 166 votes against and 7 abstentions)',\n",
       "  '(Das Parlament lehnt den Antrag mit 164 Ja-Stimmen, 166 Nein-Stimmen und 7 Enthaltungen ab.)'),\n",
       " ('It is therefore also being requested that ISO 9002 certificates possibly include the finer details of these activities in the form of annual reports and company analyses.',\n",
       "  'Gefordert werden deshalb auch die Erfassung dieser Aktivitäten in Form von Jahresberichten oder Betriebsanalysen und eventuell die Einbeziehung in die Zertifizierung nach ISO 9002.'),\n",
       " ('In this respect, I accept this proposal to amend Directive 94/55/EC which has been tabled for discussion today.',\n",
       "  'Insofern akzeptiere ich den vorliegenden und heute zur Diskussion stehenden Vorschlag zur Änderung der Richtlinie 94/55/EG.'),\n",
       " ('The procedures for the exercise of these implementing powers conferred on the Commission were laid down afresh in the Council Decision of June 1999.',\n",
       "  'Die Modalitäten für die Ausübung dieser der Kommission übertragenen Durchführungsbefugnisse wurden durch Ratsbeschluß vom Juni 1999 neu geregelt.'),\n",
       " (\"According to the Commission' s proposal -20ºC would have been sufficient.\",\n",
       "  'Nach dem Vorschlag der Kommission wäre ein Grenzwert von -20 ºC ausreichend.'),\n",
       " ('I have thus proposed that the frost rating be lowered to -40ºC.',\n",
       "  'Deshalb habe ich vorgeschlagen, den Grenzwert für Frost auf -40 ºC herabzusetzen.'),\n",
       " ('A moment ago, Mr Vatanen spoke to us of lower temperatures, not of 20 degrees below zero, but of 40 degrees below zero.',\n",
       "  'Vor wenigen Augenblicken sprach Herr Vatanen von Temperaturen, die nicht nur unter 20 Grad minus, sondern unter 40 Grad minus liegen.'),\n",
       " ('A major part of Wales, as you know, has been granted Objective 1 status under the Structural Funds programme.',\n",
       "  'Wie Sie wissen, wurde einem beträchtlichen Teil von Wales gemäß Strukturfondsprogramm der Status einer Ziel-1-Region zuerkannt.'),\n",
       " ('We have seen poverty growing in Wales; and growing still further since 1997.',\n",
       "  'Die Armut in Wales nimmt weiter zu, wobei sie seit 1997 besonders stark ansteigt.'),\n",
       " ('Agriculture only provides 5.5% of employment in the Union.',\n",
       "  'Die Landwirtschaft stellt nur 5,5 % der Arbeitsplätze der Union.'),\n",
       " ('Mr President, it is incumbent upon me to remind my colleague, Mr Evans, of why Wales actually achieved Objective 1 status.',\n",
       "  'Herr Präsident, ich halte es für meine Pflicht, meinen Kollegen Herrn Evans daran zu erinnern, weshalb Wales überhaupt zu einer Ziel-1-Region erklärt wurde.'),\n",
       " ('I can tell you that the British Government is aware of its regulatory requirements on Objective 1 additionality.',\n",
       "  'Ich kann Ihnen versichern, daß der britischen Regierung sehr wohl bekannt ist, daß für die Ziel-1-Regionen der Grundsatz der Zusätzlichkeit gilt.'),\n",
       " ('Commissioner, we shall continue to raise the issue, as Article 158, paragraph 1, of the Treaty of Amsterdam provides for an integrated policy for islands.',\n",
       "  'Wir werden auch künftig keine Ruhe geben, denn in Artikel 158 Absatz 1 des Vertrages von Amsterdam ist von einer umfassenden Politik für die Inseln die Rede.'),\n",
       " ('You expressed some concern about what might look like a lack of reference to this partnership, yet there is a clear reference to it on page 5 of the guidelines.',\n",
       "  'Sie sind beunruhigt, weil auf diese Partnerschaft anscheinend nicht eingegangen worden ist.'),\n",
       " ('I shall remind you that the Commission is going to be approving the Objective 2 zoning plans for France, Sweden, Austria and Luxembourg tomorrow.',\n",
       "  'Ich weise darauf hin, daß die Kommission morgen die Ziel-2-Fördergebietskarten für Frankreich, Schweden, Österreich und Luxemburg bestätigen wird.'),\n",
       " ('This can only reinforce the concept based on a number of elements of good practice drawn from our experience of the current 1994-1999 programmes.',\n",
       "  'Dies bestärkt uns darin, an unserem Konzept festzuhalten, das auf einer Reihe von bewährten Praktiken aus der laufenden Programmphase 1994/1999 beruht.'),\n",
       " ('In Reunion, for example, the rate is 37%.',\n",
       "  'In Réunion beträgt die Arbeitslosenrate zum Beispiel 37 %.'),\n",
       " ('The principle of specific, exceptional treatment was envisaged in Article 299(2) of the Treaty of Amsterdam in order to deal with such cases.',\n",
       "  'Um Abhilfe zu schaffen, ist in Artikel 299 Absatz 2 des Amsterdamer Vertrages das Prinzip einer spezifischen Ausnahmebehandlung vorgesehen worden.'),\n",
       " ('The Commission document expected to be ready in December 1999 was delayed until January, then February, and the initial thinking does not fill me with much optimism.',\n",
       "  'Das für Dezember 1999 angekündigte Papier der Kommission wurde zunächst auf Januar und dann auf Februar verschoben, und die ersten Überlegungen stimmen mich nicht optimistisch.'),\n",
       " ('(The sitting was closed at 8.25 p.m.)',\n",
       "  '(Die Sitzung wird um 20.25 Uhr geschlossen.)'),\n",
       " ('I refer to item 11 on the order of business.',\n",
       "  'Ich beziehe mich auf Punkt 11 des Arbeitsplans.'),\n",
       " (\"Mr President, concerning item 11 of the Minutes on the order of business, we agreed yesterday to have the Bourlanges report on today's agenda.\",\n",
       "  'Herr Präsident, ich beziehe mich auf Punkt 11 des Protokolls betreffend den Arbeitsplan. Wir kamen gestern überein, den Bericht Bourlanges auf die Tagesordnung von heute zu setzen.'),\n",
       " ('However, we are also discussing the aid report today and the general competition report for 1998, and my contribution to this joint debate relates to the latter.',\n",
       "  'Wir reden heute aber auch über den Beihilfenbericht und den allgemeinen Wettbewerbsbericht für 1998, wobei mein Part in dieser gemeinsamen Aussprache den letzteren Bereich betrifft.'),\n",
       " ('The competition report 1998 is not a bad foundation for this but, in fact, there is nothing that could not be further improved upon.',\n",
       "  'Der Wettbewerbsbericht 1998 ist keine schlechte Grundlage dafür, aber es gibt eben nichts, was nicht noch besser zu machen wäre.'),\n",
       " ('There were a total of 27 cases in 1998 and the Commission submitted its own report on these.',\n",
       "  'Das sind insgesamt 27 Fälle im Jahre 1998. Über diese Fälle hat die Kommission einen eigenen Bericht abgegeben.'),\n",
       " ('As in other sectors, the general ban on state aid according to Article 87 (1) of the EC Treaty also applies to the iron and steel industry.',\n",
       "  'Wie in anderen Bereichen auch gilt für die Eisen- und Stahlindustrie das generelle Beihilfeverbot nach Artikel 87 Absatz 1 des EG-Vertrags.'),\n",
       " ('Under Article 88, the Commission is obliged to supervise state aid.',\n",
       "  'Gemäß Artikel 88 ist die Kommission zur Kontrolle staatlicher Beihilfen verpflichtet.'),\n",
       " ('In 1998, the largest case concerned the supply of company capital totalling EUR 540 million to the PREUSSAG in Germany.',\n",
       "  'Im Jahre 1998 war der größte Fall die Zuführung von Eigenkapital an die PREUSSAG in Deutschland in Höhe von 540 Millionen Euro.'),\n",
       " ('The rules pertaining to the steel industry were drawn up on 18 December 1996.',\n",
       "  'Für den Bereich der Stahlindustrie sind die geltenden Regeln am 18. Dezember 1996 aufgestellt worden.'),\n",
       " ('In addition, there is a special provision of up to EUR 50 million for Greece.',\n",
       "  'Zusätzlich gibt es eine Sonderregelung bis zu 50 Millionen Euro für den Mitgliedstaat Griechenland.'),\n",
       " ('Wishing to save 60 000 jobs is, apparently, a sin against the market, but saving capital does not seem to present any problem for the advocates of the free market.',\n",
       "  '60 000 Arbeitsplätze retten zu wollen, das ist anscheinend eine Sünde wider den Markt, aber die Rettung von Kapital bereitet den Verfechtern des freien Marktes offenbar keine Probleme.'),\n",
       " ('The Group of the European Liberal, Democrat and Reform Party has tabled 80 amendments in the committee, all concerning state aid.',\n",
       "  'Die Liberale Fraktion hat im Ausschuß 80 Änderungsanträge vorgelegt, die sich alle mit staatlichen Beihilfen befassen.'),\n",
       " (\"The rapporteur' s Amendments Nos 6 and 7, therefore, deserve our support.\",\n",
       "  'Den Änderungsanträgen 6 und 7 des Berichterstatters sollte deshalb zugestimmt werden.'),\n",
       " ('Amendments Nos 1 and 5 make reference to the phenomenon of market failure because the market instrument in itself does not result in the ideal society.',\n",
       "  'Die Änderungsanträge 1 und 5 beziehen sich auf das Zusammenbrechen des Marktes, denn das Marktinstrument allein führt nicht zur idealen Gesellschaft.'),\n",
       " ('National competition authorities were able to apply Articles 81(1) and 82 for some time.',\n",
       "  'Die Artikel 81.1 und 82 konnten bereits seit einiger Zeit durch die nationalen Wettbewerbsbehörden angewendet werden.'),\n",
       " ('However, they could not apply Article 81(3), which, to a certain extent, prevented the coherent application of Article 81(1).',\n",
       "  'Aber diese konnten nicht den Artikel 81.3 anwenden, wodurch in gewisser Weise eine kohärente Anwendung von Artikel 81.1 unmöglich wurde.'),\n",
       " ('The procedure in the field of competition is basically contained in Regulation 1762.',\n",
       "  'Das Verfahren auf dem Gebiet des Wettbewerbs ist grundsätzlich in der Verordnung Nr. 17/62 enthalten.'),\n",
       " ('Secondly, Regulation 1762 must be repealed and replaced with a new regulation.',\n",
       "  'Zum zweiten muß die Verordnung Nr. 17/62 außer Kraft gesetzt und durch eine neue Verordnung ersetzt werden.'),\n",
       " ('A word on the White Paper: the revision of Articles 81 and 82 represents a change of direction in monopolies policy.',\n",
       "  'Ein Wort zum Weißbuch: Die Revision von Artikel 81 und 82 bedeutet eine kartellpolitische Wende.'),\n",
       " ('I will give you an example: the European Union was right to support the Grönitz steelworks in Brandenburg, although out of 5 000 jobs only 700 remained.',\n",
       "  'Ich gebe ihnen ein Beispiel: Die Europäische Union hat zu Recht das Stahlwerk Grönitz in Brandenburg gefördert, obwohl von 5 000 Arbeitsplätzen nur noch 700 übriggeblieben sind.'),\n",
       " ('I should like to remind the Member that the European Union has agreed to the new regional aid guidelines for the period 2000 plus.',\n",
       "  'Ich möchte den Kollegen daran erinnern, daß die Europäische Union den neuen Leitlinien für regionale Beihilfen für die Zeit bis nach 2000 zugestimmt hat.'),\n",
       " ('As the Court of Justice recognised in 1996, the steel industry is particularly sensitive to competition-related disturbances.',\n",
       "  'Wie der Europäische Gerichtshof 1996 anerkannte, ist die Eisen- und Stahlindustrie gegenüber Störungen des Wettbewerbsgefüges besonders anfällig.'),\n",
       " ('However, the thing that worries us most, Mr President, is the decrease in prices, by 30%, owing to imports.',\n",
       "  'Was uns aber am meisten Sorgen bereitet, ist der Verfall der Preise um 30 % wegen der Importe.'),\n",
       " ('Take, for example, the car manufacturing sector, where subsidies and state aid of various sorts have increased by 24% during the reference period.',\n",
       "  'Betrachten wir z. B. die Automobilindustrie, wo die Subventionen und verschiedenen staatlichen Beihilfen während des Berichtszeitraums um 24 % gestiegen sind.'),\n",
       " ('The economies are growing, we are enlarging to 25-30 Member States.',\n",
       "  'Die Wirtschaften wachsen, bald haben wir 25 bis 30 Mitgliedstaaten.'),\n",
       " (\"It is not enough to say that, in the Member States, there is already 40 years' worth of experience.\",\n",
       "  'Ein Hinweis darauf, daß die Mitgliedstaaten auf 40 Jahre Erfahrung zurückblicken können, reicht nicht aus.'),\n",
       " ('Most SMEs have in fact less than 30% of the market share.',\n",
       "  'Die meisten KMU haben ohnehin nur einen Marktanteil von weniger als 30 %.'),\n",
       " ('In April 1999, the Commission adopted new Rules of Procedure which introduced specific rules on repayment.',\n",
       "  'Im April 1999 hat die Kommission eine neue Verfahrensordnung verabschiedet, mit der spezifische Bestimmungen für die Rückforderung eingeführt worden sind.'),\n",
       " ('The vote will take place tomorrow at 12 p.m.',\n",
       "  'Die Abstimmung findet morgen um 12.00 Uhr statt.'),\n",
       " ('What is more, the agreement on the protection of financial interests and the two subsequent protocols signed by the European Council in 1995 did nothing to change this.',\n",
       "  'Daran haben auch das vom Europäischen Rat 1995 unterzeichnete Übereinkommen zum Schutz der finanziellen Interessen und die beiden nachfolgenden Protokolle nichts geändert.'),\n",
       " ('For it to enter into force, it must be ratified by all 15 Member States.',\n",
       "  'Um in Kraft zu treten, muß es von allen 15 Mitgliedstaaten ratifiziert werden.'),\n",
       " ('I support the proposed deadline for the Commission being 30 September in a proposed amendment.',\n",
       "  'In einem Änderungsantrag befürworte ich die Vorschlagsfrist für die Kommission bis zum 30. September.'),\n",
       " (\"We all know that, in 1995, it was agreed that the Union' s financial interests should be given better protection under criminal law.\",\n",
       "  'Bekanntlich wurde 1995 vereinbart, daß für einen besseren strafrechtlichen Schutz der finanziellen Interessen der Union Sorge zu tragen sei.'),\n",
       " ('The Intergovernmental Conference 2000 will provide the appropriate forum for discussing this.',\n",
       "  'Die Regierungskonferenz 2000 bietet sich als Diskussionsforum dafür an.'),\n",
       " ('At the moment, Article 52 of the staff regulations concerning dismissal on the grounds of gross negligence is never used.',\n",
       "  'Artikel 52 des Personalstatuts über Entlassung wegen schwerwiegender Unterlassungen wird zur Zeit kaum angewendet.'),\n",
       " ('Article 280 of the Treaty allows the Council to pinpoint the appropriate instruments to curb fraud.',\n",
       "  'Nach Artikel 280 des Vertrags kann der Rat geeignete Mittel zur Bekämpfung von Betrügereien beschließen.'),\n",
       " ('Mr President, on a point of order I should like to ask you for clarification of the Rules of Procedure: namely Rules 133(2) and 138(4).',\n",
       "  '(EN) Herr Präsident, eine Bemerkung zur Anwendung der Geschäftsordnung. Ich bitte um eine Erläuterung zu Artikel 133 Absatz 2 und 138 Absatz 4 der Geschäftsordnung.'),\n",
       " ('Directive 96/35/EC was a response to this requirement.',\n",
       "  'Dieser Forderung entsprach die Richtlinie 96/35/EG.'),\n",
       " ('In order to facilitate achieving this objective, Directive 96/35/EC provided for the appointment of safety advisers for dangerous goods who would have appropriate professional training.',\n",
       "  'Um die Umsetzung dieses Ziels zu erleichtern, sah die Richtlinie 96/35/EG die Einsetzung von entsprechend ausgebildeten Sicherheitsberatern für den Gefahrguttransport vor.'),\n",
       " ('I shall point out that a directive on the approximation of Member State legislation on the transport of dangerous goods by road came into force on 1 January 1997.',\n",
       "  'Ich möchte daran erinnern, daß am 1. Januar 1997 eine Richtlinie über die Annäherung der Rechtsvorschriften der Mitgliedstaaten betreffend die Beförderung gefährlicher Güter auf der Straße in Kraft getreten ist.'),\n",
       " ('This included a number of interim conditions valid until 1 January 1999.',\n",
       "  'Diese enthielt einige Übergangsbestimmungen, die bis zum 1. Januar 1999 galten.'),\n",
       " ('- The Schroedter report speaks of the need to promote partnerships with regard to the spending of EU Structural Funds in Europe for the period 2000-2006.',\n",
       "  '. (EN) Der Bericht Schroedter verweist im Hinblick auf die Verwendung der europäischen Strukturfonds für den Zeitraum 2000-2006 auf die Notwendigkeit der Förderung von Partnerschaften.'),\n",
       " ('During the next round of EU Structural Funds 2000-2006, other EU initiatives such as \"Equal\" and \"Urban\" will be operating.',\n",
       "  'Für den neuen ESF-Planungszeitraum 2000-2006 sind weitere Initiativen, wie z. B. \"Equal \" und \"Urban \", vorgesehen.'),\n",
       " ('They also call for a general debate on the future of the cohesion policy after 2006, but that is another subject.',\n",
       "  'Dies erfordert zugleich eine allgemeine Aussprache über die Zukunft der Kohäsionspolitik nach 2006, aber das ist eine andere Sache.'),\n",
       " (\"Unfortunately, the European Commission has already moved ahead with its guidelines and Parliament' s position on the programmes for 2000-2006 does not carry much weight.\",\n",
       "  'Bedauerlicherweise hat die Europäische Kommission ihre Leitlinien schon weitgehend abgesteckt, und so spielt der Standpunkt des Parlaments zu den Programmen des Zeitraums 2000-2006 kaum noch eine Rolle.'),\n",
       " ('This is why the mid-term review, provided for under Article 42 of Regulation 1260/99, will be of considerable importance.',\n",
       "  'Die Halbzeitbewertung gemäß Artikel 42 der Verordnung 1260/99 wird deshalb von nicht geringer Bedeutung sein.'),\n",
       " ('In 1986, the average of the 10 poorest regions amounted to 41% of the overall Community GNP. In 1996 it was 50%.',\n",
       "  'Der Durchschnitt der 10 ärmsten Regionen, der 1986 noch bei 41 % des gemeinschaftlichen BSP lag, erreichte 1996 50 %.'),\n",
       " ('The management of ABB Alsthom Power, following a merger carried out in June 1999, announced restructuring where there is already the prospect of layoffs in a number of countries.',\n",
       "  'Die Direktion von ABB-Alsthom Power, das aus einer Fusion im Juni 1999 hervorgegangen ist, hat eine Umstrukturierung angekündigt, die in einigen Ländern zur Streichung von Arbeitsplätzen führen wird.'),\n",
       " ('This damaging situation for employment raises many questions, particularly regarding the information given to the European Works Council, in existence since 1996.',\n",
       "  'Diese verhängnisvolle Arbeitsplatzsituation wirft zahlreiche Fragen auf, insbesondere hinsichtlich der Informationen, die dem seit 1996 bestehenden Europäischen Betriebsrat gegeben werden.'),\n",
       " ('Do you imagine that the 18 million unemployed people in Europe are victims of too reticent an application of this competition policy?',\n",
       "  'Meinen Sie vielleicht, die 18 Millionen Arbeitslosen in Europa seien Opfer einer zu zaghaften Anwendung dieser Wettbewerbspolitik?'),\n",
       " ('Just as the Court of Justice recognised in its order of 3 May 1996, the iron and steel industry is particularly sensitive to disturbances to its competitive operation.',\n",
       "  'Wie der Gerichtshof in seiner Entscheidung vom 3. Mai 1996 festgestellt hat, ist die Eisen- und Stahlindustrie gegenüber Störungen des Wettbewerbsgefüges besonders anfällig.'),\n",
       " ('The aid system must effectively be continued beyond 2002.',\n",
       "  'Das Beihilfensystem muß auch über das Jahr 2002 hinaus bestehen bleiben.'),\n",
       " ('I could reel off the list of disasters that have afflicted this industry in my 10 years in this Parliament but I only have three minutes.',\n",
       "  'Ich könnte Ihnen eine lange Liste von Katastrophen dieser Art nennen, die allein in den zehn Jahren meiner Abgeordnetentätigkeit passiert sind, aber ich habe nur drei Minuten.'),\n",
       " ('The Royal Society for the Protection of Birds believes that as many as 400,000 birds, perhaps mainly guillemots, may have died.',\n",
       "  'Die Royal Society for the Protection of Birds geht davon aus, daß bis zu 400 000 Vögel, zumeist Lummen, ums Leben gekommen sind.'),\n",
       " ('This could be of a maximum of 15 years of age.',\n",
       "  'Sie könnte bei maximal 15 Jahren liegen.'),\n",
       " ('Twenty one years after Amoco Cadiz, this umpteenth oil slick, the seventh since 1967, shows the irresponsibility of our successive rulers.',\n",
       "  'Einundzwanzig Jahre nach der Amoco Cadiz beweist diese x\\xadste Ölpest, die siebente seit 1967, die Verantwortungslosigkeit unserer jeweiligen Regierung.'),\n",
       " ('The 15 clearly do not suffice.',\n",
       "  'Die 15 reichen offensichtlich nicht aus.'),\n",
       " ('First of all, the port-state control, according to which 25% of all ships require inspection.',\n",
       "  'Zunächst die port-state control, 25 % aller Schiffe sind einer Inspektion zu unterziehen.'),\n",
       " ('I think that this 25% should not only be enforced but that it should also be ensured that more inspections take place.',\n",
       "  'Diese 25 % sollten, wie ich meine, nicht nur beibehalten werden, vielmehr ist dafür Sorge zu tragen, daß verstärkt Kontrollen stattfinden.'),\n",
       " ('So this 25% should be increased.', 'Diese 25 % sind also zuwenig.'),\n",
       " ('In my opinion, we should look further into this point, and I also think that the Marpol Treaty, which comes into effect in 2001, should be looked at very closely.',\n",
       "  'Wir sollten auch in diesem Punkt vorankommen. Zudem müssen wir meines Erachtens das MARPOL-Übereinkommen, das 2001 in Kraft tritt, gründlich überprüfen.'),\n",
       " ('In Europe, legislation is stricter and it is compulsory to inspect 25% of the incoming vessels according to the port-state control directive.',\n",
       "  'In Europa gelten strengere Vorschriften, man ist gehalten, ist verpflichtet, 25 % der einlaufenden Schiffe auf der Grundlage der Hafenstaatenkontrolle einer Inspektion zu unterziehen.'),\n",
       " ('The environmental disaster of the sinking of the Erika off Brittany and the spillage of 10 000 tonnes of oil has been widely reported in the British media.',\n",
       "  'Die britischen Medien haben ausführlich über die Havarie des Tankers Erika vor der bretonischen Küste und das Auslaufen von 10 000 Tonnen Öl berichtet.'),\n",
       " ('Unfortunately, the 25% often consists of flags which are expected to fulfil the requirements: in this way inspections are quicker and the work is carried out more easily.',\n",
       "  'Leider werden die 25 % manchmal durch Flaggen abgedeckt, von denen man weiß, daß sie alle Anforderungen erfüllen werden: Die Inspektionen gehen schneller, und die Arbeit ist einfacher auszuführen.'),\n",
       " ('We have set a figure of USD 180 million; in the United States they are talking about USD 1 billion as a maximum ceiling for covering claims payments.',\n",
       "  'Wir haben 180 Millionen Dollar festgelegt; in den USA spricht man von einer Milliarde Dollar als Obergrenze für Entschädigungen.'),\n",
       " ('I have received 8 motions for resolution, in accordance with Rule 37(2), to close the present Commission statement.',\n",
       "  'Ich habe gemäß Artikel 37, Absatz 2, acht Entschließungsanträge zum Abschluß dieser Erklärung der Kommission erhalten.'),\n",
       " ('In fact, we all know that anyone who does not live within the perimeter of an Objective 2 region will find it all but impossible to obtain aid.',\n",
       "  'Wir wissen ja alle, daß man, wenn man nicht die Kriterien von Ziel 2 erfüllt, größte Schwierigkeiten hat, eine Hilfe zu bekommen.'),\n",
       " ('I was in the region of Lorraine at the time of this terrible storm which destroyed around 20% of deciduous forest.',\n",
       "  'Ich war gerade in Lothringen, als dieser schreckliche Sturm dort etwa 20 % des Laubwaldes vernichtete.'),\n",
       " (\"Indeed, for some 'forestry' districts, which have lost 20% of their trees, this represents a huge loss.\",\n",
       "  'Ein Schaden von 20 % bedeutet für einige forstwirtschaftliche Gemeinden einen enormen Verlust.'),\n",
       " ('The towns concerned estimate that it will be spread over 40 years.',\n",
       "  'Die betroffenen Gemeinden schätzen, daß es 40 Jahre sein könnten.'),\n",
       " ('These are the terms of the written answer you gave Mr Martinez on 11 January 2000.',\n",
       "  'Das ist auch in der schriftlichen Antwort enthalten, die Sie meinem Kollegen am 11. Januar 2000 gegeben haben.'),\n",
       " ('The Community action programme for civil protection, established by a Council decision on 9 December, was launched on 1 January 2000.',\n",
       "  'Das durch den Ratsbeschluß vom 9. Dezember letzten Jahres angenommene gemeinschaftliche Aktionsprogramm für den Zivilschutz ist am 1. Januar 2000 in Kraft getreten.'),\n",
       " ('We have heard that in a short space of time the storm left us with approximately 120 million cubic metres of solid timber, and this is only an estimate.',\n",
       "  'Es sind ja nur Schätzungen, wenn wir jetzt hören, daß durch den Sturm in kurzer Zeit ca. 120 Millionen Festmeter Holz in Europa anfallen.'),\n",
       " ('What would you say to the forestry manager if his enterprise happened not to be in an Objective 2 region, or in a 5b region?',\n",
       "  'Was sagen Sie denn dem Forstwirt, wenn sein Betrieb unter Umständen nicht im Ziel-2-Gebiet liegt, wenn sein Betrieb nicht im 5b-Gebiet liegt?')]"
      ]
     },
     "execution_count": 39,
     "metadata": {},
     "output_type": "execute_result"
    }
   ],
   "source": [
    "all_lines"
   ]
  },
  {
   "cell_type": "code",
   "execution_count": 40,
   "metadata": {},
   "outputs": [],
   "source": [
    "sub_lines = [(replace_numbers(src), replace_numbers(trg)) for src, trg in all_lines]"
   ]
  },
  {
   "cell_type": "code",
   "execution_count": 41,
   "metadata": {},
   "outputs": [
    {
     "data": {
      "text/plain": [
       "[('I would like your advice about Rule NUM concerning inadmissibility.',\n",
       "  'Könnten Sie mir eine Auskunft zu Artikel NUM im Zusammenhang mit der Unzulässigkeit geben?'),\n",
       " ('Why has there been no Health and Safety Committee meeting since NUM?',\n",
       "  'Weshalb ist der Arbeitsschutzausschuß seit NUM nicht ein einziges Mal zusammengetreten?'),\n",
       " ('To this end, I would like to remind you of the resolution of NUM September, which recommended that the proposal be presented as soon as possible.',\n",
       "  'In diesem Sinne erinnere ich an die Entschließung vom NUM. September, in der empfohlen wurde, den Vorschlag in der kürzestmöglichen Frist vorzulegen.'),\n",
       " ('As I recall, the outcome of this vote was NUM votes to NUM with a few abstentions.',\n",
       "  'Diese Abstimmung ist meiner Erinnerung nach so ausgegangen: NUM gegen NUM Stimmen bei einigen wenigen Enthaltungen.'),\n",
       " ('The Commission will present its programme for the year NUM in February.',\n",
       "  'Die Kommission wird das Programm für das Jahr NUM im Februar vorlegen.'),\n",
       " ('We have said, very well, if the Commission does not wish to introduce the NUM programme as early as January then we will do it in February.',\n",
       "  'Wir haben gesagt, o. k, wenn die Kommission das Programm NUM noch nicht im Januar machen will, dann machen wir das im Februar.'),\n",
       " ('(Parliament rejected the request, with NUM votes for, NUM votes against and NUM abstentions)',\n",
       "  '(Das Parlament lehnt den Antrag mit NUM Ja-Stimmen, NUM Nein-Stimmen und NUM Enthaltungen ab.)'),\n",
       " ('It is therefore also being requested that ISO NUM certificates possibly include the finer details of these activities in the form of annual reports and company analyses.',\n",
       "  'Gefordert werden deshalb auch die Erfassung dieser Aktivitäten in Form von Jahresberichten oder Betriebsanalysen und eventuell die Einbeziehung in die Zertifizierung nach ISO NUM.'),\n",
       " ('In this respect, I accept this proposal to amend Directive NUM/NUM/EC which has been tabled for discussion today.',\n",
       "  'Insofern akzeptiere ich den vorliegenden und heute zur Diskussion stehenden Vorschlag zur Änderung der Richtlinie NUM/NUM/EG.'),\n",
       " ('The procedures for the exercise of these implementing powers conferred on the Commission were laid down afresh in the Council Decision of June NUM.',\n",
       "  'Die Modalitäten für die Ausübung dieser der Kommission übertragenen Durchführungsbefugnisse wurden durch Ratsbeschluß vom Juni NUM neu geregelt.'),\n",
       " (\"According to the Commission' s proposal -NUMºC would have been sufficient.\",\n",
       "  'Nach dem Vorschlag der Kommission wäre ein Grenzwert von -NUM ºC ausreichend.'),\n",
       " ('I have thus proposed that the frost rating be lowered to -NUMºC.',\n",
       "  'Deshalb habe ich vorgeschlagen, den Grenzwert für Frost auf -NUM ºC herabzusetzen.'),\n",
       " ('A moment ago, Mr Vatanen spoke to us of lower temperatures, not of NUM degrees below zero, but of NUM degrees below zero.',\n",
       "  'Vor wenigen Augenblicken sprach Herr Vatanen von Temperaturen, die nicht nur unter NUM Grad minus, sondern unter NUM Grad minus liegen.'),\n",
       " ('A major part of Wales, as you know, has been granted Objective NUM status under the Structural Funds programme.',\n",
       "  'Wie Sie wissen, wurde einem beträchtlichen Teil von Wales gemäß Strukturfondsprogramm der Status einer Ziel-NUM-Region zuerkannt.'),\n",
       " ('We have seen poverty growing in Wales; and growing still further since NUM.',\n",
       "  'Die Armut in Wales nimmt weiter zu, wobei sie seit NUM besonders stark ansteigt.'),\n",
       " ('Agriculture only provides NUM.NUM% of employment in the Union.',\n",
       "  'Die Landwirtschaft stellt nur NUM % der Arbeitsplätze der Union.'),\n",
       " ('Mr President, it is incumbent upon me to remind my colleague, Mr Evans, of why Wales actually achieved Objective NUM status.',\n",
       "  'Herr Präsident, ich halte es für meine Pflicht, meinen Kollegen Herrn Evans daran zu erinnern, weshalb Wales überhaupt zu einer Ziel-NUM-Region erklärt wurde.'),\n",
       " ('I can tell you that the British Government is aware of its regulatory requirements on Objective NUM additionality.',\n",
       "  'Ich kann Ihnen versichern, daß der britischen Regierung sehr wohl bekannt ist, daß für die Ziel-NUM-Regionen der Grundsatz der Zusätzlichkeit gilt.'),\n",
       " ('Commissioner, we shall continue to raise the issue, as Article NUM, paragraph NUM, of the Treaty of Amsterdam provides for an integrated policy for islands.',\n",
       "  'Wir werden auch künftig keine Ruhe geben, denn in Artikel NUM Absatz NUM des Vertrages von Amsterdam ist von einer umfassenden Politik für die Inseln die Rede.'),\n",
       " ('You expressed some concern about what might look like a lack of reference to this partnership, yet there is a clear reference to it on page NUM of the guidelines.',\n",
       "  'Sie sind beunruhigt, weil auf diese Partnerschaft anscheinend nicht eingegangen worden ist.'),\n",
       " ('I shall remind you that the Commission is going to be approving the Objective NUM zoning plans for France, Sweden, Austria and Luxembourg tomorrow.',\n",
       "  'Ich weise darauf hin, daß die Kommission morgen die Ziel-NUM-Fördergebietskarten für Frankreich, Schweden, Österreich und Luxemburg bestätigen wird.'),\n",
       " ('This can only reinforce the concept based on a number of elements of good practice drawn from our experience of the current NUM-NUM programmes.',\n",
       "  'Dies bestärkt uns darin, an unserem Konzept festzuhalten, das auf einer Reihe von bewährten Praktiken aus der laufenden Programmphase NUM/NUM beruht.'),\n",
       " ('In Reunion, for example, the rate is NUM%.',\n",
       "  'In Réunion beträgt die Arbeitslosenrate zum Beispiel NUM %.'),\n",
       " ('The principle of specific, exceptional treatment was envisaged in Article NUM(NUM) of the Treaty of Amsterdam in order to deal with such cases.',\n",
       "  'Um Abhilfe zu schaffen, ist in Artikel NUM Absatz NUM des Amsterdamer Vertrages das Prinzip einer spezifischen Ausnahmebehandlung vorgesehen worden.'),\n",
       " ('The Commission document expected to be ready in December NUM was delayed until January, then February, and the initial thinking does not fill me with much optimism.',\n",
       "  'Das für Dezember NUM angekündigte Papier der Kommission wurde zunächst auf Januar und dann auf Februar verschoben, und die ersten Überlegungen stimmen mich nicht optimistisch.'),\n",
       " ('(The sitting was closed at NUM.NUM p.m.)',\n",
       "  '(Die Sitzung wird um NUM.NUM Uhr geschlossen.)'),\n",
       " ('I refer to item NUM on the order of business.',\n",
       "  'Ich beziehe mich auf Punkt NUM des Arbeitsplans.'),\n",
       " (\"Mr President, concerning item NUM of the Minutes on the order of business, we agreed yesterday to have the Bourlanges report on today's agenda.\",\n",
       "  'Herr Präsident, ich beziehe mich auf Punkt NUM des Protokolls betreffend den Arbeitsplan. Wir kamen gestern überein, den Bericht Bourlanges auf die Tagesordnung von heute zu setzen.'),\n",
       " ('However, we are also discussing the aid report today and the general competition report for NUM, and my contribution to this joint debate relates to the latter.',\n",
       "  'Wir reden heute aber auch über den Beihilfenbericht und den allgemeinen Wettbewerbsbericht für NUM, wobei mein Part in dieser gemeinsamen Aussprache den letzteren Bereich betrifft.'),\n",
       " ('The competition report NUM is not a bad foundation for this but, in fact, there is nothing that could not be further improved upon.',\n",
       "  'Der Wettbewerbsbericht NUM ist keine schlechte Grundlage dafür, aber es gibt eben nichts, was nicht noch besser zu machen wäre.')]"
      ]
     },
     "execution_count": 41,
     "metadata": {},
     "output_type": "execute_result"
    }
   ],
   "source": [
    "sub_lines[:30]"
   ]
  },
  {
   "cell_type": "code",
   "execution_count": 58,
   "metadata": {},
   "outputs": [
    {
     "data": {
      "text/plain": [
       "[('Busser', 'PER')]"
      ]
     },
     "execution_count": 58,
     "metadata": {},
     "output_type": "execute_result"
    }
   ],
   "source": [
    "[(ent.text, ent.label_) for ent in de_nlp(\"Ja, Herr Busser, ich denke, daß eine derartige Initiative mit Ratsbeschluss durchaus angebracht ist.\").ents]"
   ]
  },
  {
   "cell_type": "code",
   "execution_count": 43,
   "metadata": {},
   "outputs": [
    {
     "data": {
      "text/plain": [
       "[('die', 'DET', 'ART', 'der'),\n",
       " ('modalitäten', 'ADJ', 'ADJA', 'modalitäten'),\n",
       " ('für', 'ADP', 'APPR', 'für'),\n",
       " ('die', 'DET', 'ART', 'der'),\n",
       " ('ausübung', 'NOUN', 'NN', 'ausübung'),\n",
       " ('dieser', 'PRON', 'PDS', 'dies'),\n",
       " ('der', 'DET', 'ART', 'der'),\n",
       " ('kommission', 'ADJ', 'ADJA', 'kommission'),\n",
       " ('übertragenen', 'ADJ', 'ADJA', 'übertragen'),\n",
       " ('durchführungsbefugnisse', 'VERB', 'VVPP', 'durchführungsbefugnisse'),\n",
       " ('wurden', 'AUX', 'VAFIN', 'werden'),\n",
       " ('durch', 'ADP', 'APPR', 'durch'),\n",
       " ('ratsbeschluß', 'ADJ', 'ADJA', 'ratsbeschluß'),\n",
       " ('vom', 'ADP', 'APPRART', 'vom'),\n",
       " ('juni', 'ADV', 'ADV', 'juni'),\n",
       " ('2018', 'NUM', 'CARD', '2018'),\n",
       " ('neu', 'ADJ', 'ADJD', 'neu'),\n",
       " ('geregelt', 'VERB', 'VVPP', 'regeln')]"
      ]
     },
     "execution_count": 43,
     "metadata": {},
     "output_type": "execute_result"
    }
   ],
   "source": [
    "[(tok.text, tok.pos_, tok.tag_, tok.lemma_) for tok in de_nlp(\"Die Modalitäten für die Ausübung dieser der Kommission übertragenen Durchführungsbefugnisse wurden durch Ratsbeschluß vom Juni 2018 neu geregelt\".lower())]"
   ]
  },
  {
   "cell_type": "code",
   "execution_count": null,
   "metadata": {},
   "outputs": [],
   "source": [
    "#de_docs = list(de_nlp.pipe(DE_LINES, n_threads=5, batch_size=100))"
   ]
  },
  {
   "cell_type": "code",
   "execution_count": 66,
   "metadata": {},
   "outputs": [],
   "source": [
    "import dateparser\n",
    "from dateparser.search import search_dates"
   ]
  },
  {
   "cell_type": "code",
   "execution_count": 89,
   "metadata": {},
   "outputs": [
    {
     "data": {
      "text/plain": [
       "[('9. Dezember', datetime.datetime(2019, 12, 9, 0, 0)),\n",
       " ('am 1. Januar 2000 in', datetime.datetime(2000, 1, 1, 0, 0))]"
      ]
     },
     "execution_count": 89,
     "metadata": {},
     "output_type": "execute_result"
    }
   ],
   "source": [
    "search_dates(\"9. Dezember letzten Jahres angenommene gemeinschaftliche Aktionsprogramm für den Zivilschutz ist am 1. Januar 2000 in Kraft getreten.\", languages=[\"de\"])"
   ]
  },
  {
   "cell_type": "code",
   "execution_count": 92,
   "metadata": {},
   "outputs": [
    {
     "name": "stdout",
     "output_type": "stream",
     "text": [
      "Please rise, then, for this minute' s silence.\n",
      "[(\"minute'\", datetime.datetime(2019, 6, 22, 0, 0))]\n",
      "I would like your advice about Rule 143 concerning inadmissibility.\n",
      "[('143', datetime.datetime(1900, 1, 1, 1, 4, 3))]\n",
      "My question relates to something that will come up on Thursday and which I will then raise again.\n",
      "[('on Thursday and', datetime.datetime(2019, 6, 20, 0, 0))]\n",
      "That is precisely the time when you may, if you wish, raise this question, i.e. on Thursday prior to the start of the presentation of the report.\n",
      "[('may', datetime.datetime(2019, 5, 22, 0, 0)), ('on Thursday', datetime.datetime(2019, 5, 16, 0, 0))]\n",
      "Now, however, he is to go before the courts once more because the public prosecutor is appealing.\n",
      "[('Now', datetime.datetime(2019, 6, 22, 17, 54, 18, 818367))]\n",
      "Mrs Plooij-van Gorsel, I can tell you that this matter is on the agenda for the Quaestors' meeting on Wednesday.\n",
      "[('on Wednesday', datetime.datetime(2019, 6, 19, 0, 0))]\n",
      "Why has there been no Health and Safety Committee meeting since 1998?\n",
      "[('1998', datetime.datetime(1998, 6, 22, 0, 0))]\n",
      "In any event, this question is not presently included among the requests for topical and urgent debate on Thursday.\n",
      "[('on Thursday', datetime.datetime(2019, 6, 20, 0, 0))]\n",
      "To this end, I would like to remind you of the resolution of 15 September, which recommended that the proposal be presented as soon as possible.\n",
      "[('of 15 September', datetime.datetime(2019, 9, 15, 0, 0))]\n",
      "Mr Barón Crespo, you were unable to attend the Conference of Presidents last Thursday.\n",
      "[('Thursday', datetime.datetime(2019, 6, 20, 0, 0))]\n",
      "Your Group was alone in advocating what you are saying now.\n",
      "[('now', datetime.datetime(2019, 6, 22, 17, 54, 18, 843912))]\n",
      "As I recall, the outcome of this vote was 422 votes to 180 with a few abstentions.\n",
      "[('422', datetime.datetime(1900, 1, 1, 4, 2, 2)), ('180', datetime.datetime(1900, 1, 1, 1, 8))]\n",
      "I should now like to comment on the issue itself.\n",
      "[('now', datetime.datetime(2019, 6, 22, 17, 54, 18, 852907))]\n",
      "We have said, very well, if the Commission does not wish to introduce the 2000 programme as early as January then we will do it in February.\n",
      "[('the 2000', datetime.datetime(2000, 6, 22, 0, 0)), ('January', datetime.datetime(2000, 1, 22, 0, 0)), ('in February', datetime.datetime(2000, 2, 22, 0, 0))]\n",
      "We shall now hear Mr Wurtz speaking against this request.\n",
      "[('now', datetime.datetime(2019, 6, 22, 17, 54, 18, 872784))]\n",
      "(Parliament rejected the request, with 164 votes for, 166 votes against and 7 abstentions)\n",
      "[('164', datetime.datetime(1900, 1, 1, 1, 6, 4)), ('166', datetime.datetime(1900, 1, 1, 1, 6, 6))]\n",
      "When we adopt the Minutes for today' s sitting tomorrow, then any Members who think the positions have not been explained clearly enough may ask for amendments.\n",
      "[('the Minutes', datetime.datetime(2019, 6, 22, 0, 0)), (\"today' s\", datetime.datetime(2019, 6, 22, 17, 54, 18, 894314)), ('tomorrow', datetime.datetime(2019, 6, 23, 17, 54, 18, 895303)), ('may', datetime.datetime(2019, 5, 22, 0, 0))]\n"
     ]
    }
   ],
   "source": [
    "for i, sent in enumerate(EN_LINES):\n",
    "    dates = search_dates(sent, languages=[\"en\"])\n",
    "    if i == 100: break\n",
    "    if dates:\n",
    "        print(sent)\n",
    "        print(dates)"
   ]
  },
  {
   "cell_type": "code",
   "execution_count": 96,
   "metadata": {},
   "outputs": [
    {
     "data": {
      "text/plain": [
       "['\\nDividendengutschrift für inländische Wertpapiere\\n\\nDepotinhaber    : ME\\n\\nExtag           :  ',\n",
       " '18.04.2013          Bruttodividende\\nZahlungstag     :  ',\n",
       " '18.04.2013          pro Stück       :       ',\n",
       " '0,9800 EUR\\nValuta          :  ',\n",
       " '18.04.2013\\n\\n                                       Bruttodividende :        ',\n",
       " '78,40 EUR\\n                                      *Einbeh. Steuer  :        ',\n",
       " '20,67 EUR\\n                                       Nettodividende  :        ',\n",
       " '78,40 EUR\\n\\n                                       Endbetrag       :        ',\n",
       " '57,73 EUR\\n']"
      ]
     },
     "execution_count": 96,
     "metadata": {},
     "output_type": "execute_result"
    }
   ],
   "source": [
    "re.findall(r'(.*?\\D{2,})', my_str)"
   ]
  },
  {
   "cell_type": "code",
   "execution_count": 99,
   "metadata": {},
   "outputs": [
    {
     "name": "stdout",
     "output_type": "stream",
     "text": [
      "[]\n"
     ]
    }
   ],
   "source": [
    "d = r'\\d{4}[-. ]\\d?\\d[-. ]\\d?\\d (?:2[0-3]|[01]?[0-9]):[0-5]?[0-9]:[0-5]?[0-9]'\n",
    "print(re.findall(r'{0}.*?(?=\\s*{0}|$)'.format(d), my_str, re.DOTALL))"
   ]
  },
  {
   "cell_type": "code",
   "execution_count": 100,
   "metadata": {},
   "outputs": [
    {
     "name": "stdout",
     "output_type": "stream",
     "text": [
      "['2018-03-14 06:08:18, he went on', '2018-03-15 06:08:18, lets play']\n"
     ]
    }
   ],
   "source": [
    "rex = r\"\\s+(?=\\d{2}(?:\\d{2})?-\\d{1,2}-\\d{1,2}\\b)\"\n",
    "s = \"2018-03-14 06:08:18, he went on 2018-03-15 06:08:18, lets play\"\n",
    "print(re.split(rex, s))"
   ]
  },
  {
   "cell_type": "code",
   "execution_count": 113,
   "metadata": {},
   "outputs": [],
   "source": [
    "nums = [n for n in re.split(r\"\\D+\", \"2018-03-14 06:08:18, he went on 2018-03-15 06:08:18, lets play\") if n]"
   ]
  },
  {
   "cell_type": "code",
   "execution_count": 114,
   "metadata": {},
   "outputs": [
    {
     "data": {
      "text/plain": [
       "['2018', '03', '14', '06', '08', '18', '2018', '03', '15', '06', '08', '18']"
      ]
     },
     "execution_count": 114,
     "metadata": {},
     "output_type": "execute_result"
    }
   ],
   "source": [
    "nums"
   ]
  },
  {
   "cell_type": "code",
   "execution_count": 127,
   "metadata": {},
   "outputs": [],
   "source": [
    "sss = \"2018-03-14 06:08:18, he went on 2018-03-15 06:08:18, lets play\""
   ]
  },
  {
   "cell_type": "code",
   "execution_count": 204,
   "metadata": {},
   "outputs": [],
   "source": [
    "def cleanup_numbers(line):\n",
    "    \"\"\"\n",
    "    Ex: Turchi Report [A5-0303/2001] and Linkohr Report (A5-0297/2001) - am 20. Juni 2019\n",
    "    \"\"\"\n",
    "    line = line.translate(str.maketrans('', '', string.punctuation))\n",
    "    # Turchi Report A503032001 and Linkohr Report A502972001 am 20 Juni 2019\n",
    "    line = line.strip()\n",
    "    ### replace digits\n",
    "    # Turchi Report A503032001 and Linkohr Report A502972001 am NUM Juni NUM\n",
    "    nums = [n for n in re.split(r\"\\D+\", line) if n]\n",
    "    line = ' '.join([word if not word in nums else \"NUM\" for word in line.split(\" \")])\n",
    "    ### Clean up regulations\n",
    "    ### A503032001 --> LAW\n",
    "    line = re.sub(r'[a-zA-Z]+[0-9]+',\"LAW\", line)\n",
    "    line = remove_adjacent_same_label(line)\n",
    "    return line"
   ]
  },
  {
   "cell_type": "code",
   "execution_count": 209,
   "metadata": {},
   "outputs": [],
   "source": [
    "def remove_adjacent_same_label(line):\n",
    "    if isinstance(line, str):\n",
    "        line = line.split(\" \")\n",
    "    # Remove adjacent duplicate labels\n",
    "    toks = [line[i] for i in range(len(line)) if (i==0) or line[i] != line[i-1]]\n",
    "    line = ' '.join(toks).strip()\n",
    "    ### remove duplicate spaces\n",
    "    line = re.sub(r\"\\s\\s+\", \" \", line)\n",
    "    return line.strip() # as string"
   ]
  },
  {
   "cell_type": "raw",
   "metadata": {},
   "source": [
    "for sent in EN_LINES:\n",
    "    sent = cleanup_numbers(sent)\n",
    "    print(sent)"
   ]
  },
  {
   "cell_type": "code",
   "execution_count": 205,
   "metadata": {},
   "outputs": [
    {
     "data": {
      "text/plain": [
       "[('European Council', 'ORG'),\n",
       " ('Ghent NUM', 'ORG'),\n",
       " ('October NUM June', 'DATE')]"
      ]
     },
     "execution_count": 205,
     "metadata": {},
     "output_type": "execute_result"
    }
   ],
   "source": [
    "[(ent.text, ent.label_) for ent in en_nlp(cleanup_numbers(\"European Council meeting (Ghent, 19 October 2001) - June 2919\")).ents]"
   ]
  },
  {
   "cell_type": "code",
   "execution_count": 179,
   "metadata": {},
   "outputs": [
    {
     "data": {
      "text/plain": [
       "[('European Council', 'ORG'),\n",
       " ('Ghent', 'ORG'),\n",
       " ('19 October 2001', 'DATE'),\n",
       " ('June 2919', 'DATE')]"
      ]
     },
     "execution_count": 179,
     "metadata": {},
     "output_type": "execute_result"
    }
   ],
   "source": [
    "[(ent.text, ent.label_) for ent in en_nlp(\"European Council meeting (Ghent, 19 October 2001) - June 2919\").ents]"
   ]
  },
  {
   "cell_type": "code",
   "execution_count": 183,
   "metadata": {},
   "outputs": [
    {
     "data": {
      "text/plain": [
       "[('Luiz Nasario da', 'PER'),\n",
       " ('Lima Ronaldo', 'PER'),\n",
       " ('Gent NUM', 'ORG'),\n",
       " ('NUM Volkswagen', 'ORG')]"
      ]
     },
     "execution_count": 183,
     "metadata": {},
     "output_type": "execute_result"
    }
   ],
   "source": [
    "[(ent.text, ent.label_) for ent in de_nlp(cleanup_numbers(\"Herr Luiz Nasario da Lima Ronaldo, Europaeischer Rat von Gent (19. Oktober 2001) - Volkswagen\")).ents]\n"
   ]
  },
  {
   "cell_type": "code",
   "execution_count": 206,
   "metadata": {},
   "outputs": [
    {
     "data": {
      "text/plain": [
       "'Europaeischer Rat von Gent NUM Oktober NUM Volkswagen'"
      ]
     },
     "execution_count": 206,
     "metadata": {},
     "output_type": "execute_result"
    }
   ],
   "source": [
    "cleanup_numbers(\"Europaeischer Rat von Gent (19. Oktober 2001) - Volkswagen\")"
   ]
  },
  {
   "cell_type": "code",
   "execution_count": 184,
   "metadata": {},
   "outputs": [
    {
     "data": {
      "text/plain": [
       "'!\"#$%&\\'()*+,-./:;<=>?@[\\\\]^_`{|}~'"
      ]
     },
     "execution_count": 184,
     "metadata": {},
     "output_type": "execute_result"
    }
   ],
   "source": [
    "string.punctuation"
   ]
  },
  {
   "cell_type": "code",
   "execution_count": 207,
   "metadata": {},
   "outputs": [
    {
     "data": {
      "text/plain": [
       "'Explanation of vote Turchi Report LAW and Linkohr Report LAW'"
      ]
     },
     "execution_count": 207,
     "metadata": {},
     "output_type": "execute_result"
    }
   ],
   "source": [
    "cleanup_numbers(\"Explanation of vote - Turchi Report [A5-0303/2001] and Linkohr Report (A5-0297/2001):\")"
   ]
  },
  {
   "cell_type": "code",
   "execution_count": 199,
   "metadata": {},
   "outputs": [
    {
     "data": {
      "text/plain": [
       "'Turchi Report LAW and Linkohr Report LAW am NUM Juni NUM'"
      ]
     },
     "execution_count": 199,
     "metadata": {},
     "output_type": "execute_result"
    }
   ],
   "source": [
    "cleanup_numbers(\"Turchi Report [A5-0303/2001] and Linkohr Report (A5-0297/2001) - am 20. Juni 2019\")"
   ]
  },
  {
   "cell_type": "code",
   "execution_count": null,
   "metadata": {},
   "outputs": [],
   "source": []
  }
 ],
 "metadata": {
  "kernelspec": {
   "display_name": "Python 3",
   "language": "python",
   "name": "python3"
  },
  "language_info": {
   "codemirror_mode": {
    "name": "ipython",
    "version": 3
   },
   "file_extension": ".py",
   "mimetype": "text/x-python",
   "name": "python",
   "nbconvert_exporter": "python",
   "pygments_lexer": "ipython3",
   "version": "3.6.8"
  }
 },
 "nbformat": 4,
 "nbformat_minor": 2
}
